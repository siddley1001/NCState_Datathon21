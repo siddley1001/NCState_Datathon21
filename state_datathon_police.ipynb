{
  "nbformat": 4,
  "nbformat_minor": 0,
  "metadata": {
    "colab": {
      "name": "state_datathon_police",
      "provenance": [],
      "collapsed_sections": [
        "EEjI4NOJyopj"
      ],
      "mount_file_id": "1gV3X_k_4AA01tBy3lAbnxv9-NZwq8W3I",
      "authorship_tag": "ABX9TyMREV8P9AIUOXfeS4dCWRbS",
      "include_colab_link": true
    },
    "kernelspec": {
      "name": "python3",
      "display_name": "Python 3"
    },
    "language_info": {
      "name": "python"
    }
  },
  "cells": [
    {
      "cell_type": "markdown",
      "metadata": {
        "id": "view-in-github",
        "colab_type": "text"
      },
      "source": [
        "<a href=\"https://colab.research.google.com/github/siddley1001/NCState_Datathon21/blob/master/state_datathon_police.ipynb\" target=\"_parent\"><img src=\"https://colab.research.google.com/assets/colab-badge.svg\" alt=\"Open In Colab\"/></a>"
      ]
    },
    {
      "cell_type": "code",
      "metadata": {
        "id": "-tiSHno6Akbk"
      },
      "source": [
        "import pandas as pd\n",
        "import numpy as np\n",
        "import matplotlib.pyplot as plt\n",
        "import seaborn as sns\n",
        "\n",
        "plt.style.use('ggplot')"
      ],
      "execution_count": 1,
      "outputs": []
    },
    {
      "cell_type": "code",
      "metadata": {
        "colab": {
          "base_uri": "https://localhost:8080/"
        },
        "id": "J_ekjfvVqL6L",
        "outputId": "3af325c4-2b66-44e3-d6f5-3bcc4893e4fc"
      },
      "source": [
        "from google.colab import drive\n",
        "drive.mount('/content/drive')"
      ],
      "execution_count": 2,
      "outputs": [
        {
          "output_type": "stream",
          "text": [
            "Drive already mounted at /content/drive; to attempt to forcibly remount, call drive.mount(\"/content/drive\", force_remount=True).\n"
          ],
          "name": "stdout"
        }
      ]
    },
    {
      "cell_type": "code",
      "metadata": {
        "colab": {
          "base_uri": "https://localhost:8080/",
          "height": 317
        },
        "id": "KRKmn4f1AyXC",
        "outputId": "b62dfc8e-f3e8-46ee-e383-361994e96fc1"
      },
      "source": [
        "police_df = pd.read_csv('/content/drive/MyDrive/NCState_DataThon/Raleigh_Police_Incidents_(NIBRS).csv')\n",
        "police_copy = police_df.copy()\n",
        "police_df.head(3)"
      ],
      "execution_count": 3,
      "outputs": [
        {
          "output_type": "execute_result",
          "data": {
            "text/html": [
              "<div>\n",
              "<style scoped>\n",
              "    .dataframe tbody tr th:only-of-type {\n",
              "        vertical-align: middle;\n",
              "    }\n",
              "\n",
              "    .dataframe tbody tr th {\n",
              "        vertical-align: top;\n",
              "    }\n",
              "\n",
              "    .dataframe thead th {\n",
              "        text-align: right;\n",
              "    }\n",
              "</style>\n",
              "<table border=\"1\" class=\"dataframe\">\n",
              "  <thead>\n",
              "    <tr style=\"text-align: right;\">\n",
              "      <th></th>\n",
              "      <th>X</th>\n",
              "      <th>Y</th>\n",
              "      <th>OBJECTID</th>\n",
              "      <th>GlobalID</th>\n",
              "      <th>case_number</th>\n",
              "      <th>crime_category</th>\n",
              "      <th>crime_code</th>\n",
              "      <th>crime_description</th>\n",
              "      <th>crime_type</th>\n",
              "      <th>reported_block_address</th>\n",
              "      <th>city_of_incident</th>\n",
              "      <th>city</th>\n",
              "      <th>district</th>\n",
              "      <th>reported_date</th>\n",
              "      <th>reported_year</th>\n",
              "      <th>reported_month</th>\n",
              "      <th>reported_day</th>\n",
              "      <th>reported_hour</th>\n",
              "      <th>reported_dayofwk</th>\n",
              "      <th>latitude</th>\n",
              "      <th>longitude</th>\n",
              "      <th>agency</th>\n",
              "      <th>updated_date</th>\n",
              "    </tr>\n",
              "  </thead>\n",
              "  <tbody>\n",
              "    <tr>\n",
              "      <th>0</th>\n",
              "      <td>NaN</td>\n",
              "      <td>NaN</td>\n",
              "      <td>12001</td>\n",
              "      <td>9cdee08d-11c8-4789-864b-6965a1b2e620</td>\n",
              "      <td>NaN</td>\n",
              "      <td>MISCELLANEOUS</td>\n",
              "      <td>81H</td>\n",
              "      <td>Miscellaneous/Missing Person (18 &amp; over)</td>\n",
              "      <td>NaN</td>\n",
              "      <td>NaN</td>\n",
              "      <td>NaN</td>\n",
              "      <td>RALEIGH</td>\n",
              "      <td>Northeast</td>\n",
              "      <td>2017/01/15 03:28:00+00</td>\n",
              "      <td>2017</td>\n",
              "      <td>1</td>\n",
              "      <td>14</td>\n",
              "      <td>22</td>\n",
              "      <td>Saturday</td>\n",
              "      <td>0.0</td>\n",
              "      <td>0.0</td>\n",
              "      <td>RPD</td>\n",
              "      <td>2017/01/19 20:11:28.950+00</td>\n",
              "    </tr>\n",
              "    <tr>\n",
              "      <th>1</th>\n",
              "      <td>NaN</td>\n",
              "      <td>NaN</td>\n",
              "      <td>12002</td>\n",
              "      <td>6f6731f4-dd64-44c7-895c-555de2703c8a</td>\n",
              "      <td>NaN</td>\n",
              "      <td>MISCELLANEOUS</td>\n",
              "      <td>81A</td>\n",
              "      <td>Miscellaneous/All Other Non-Offenses</td>\n",
              "      <td>NaN</td>\n",
              "      <td>NaN</td>\n",
              "      <td>NaN</td>\n",
              "      <td>RALEIGH</td>\n",
              "      <td>North</td>\n",
              "      <td>2017/07/29 12:35:00+00</td>\n",
              "      <td>2017</td>\n",
              "      <td>7</td>\n",
              "      <td>29</td>\n",
              "      <td>8</td>\n",
              "      <td>Saturday</td>\n",
              "      <td>0.0</td>\n",
              "      <td>0.0</td>\n",
              "      <td>RPD</td>\n",
              "      <td>2017/08/01 14:06:50.553+00</td>\n",
              "    </tr>\n",
              "    <tr>\n",
              "      <th>2</th>\n",
              "      <td>NaN</td>\n",
              "      <td>NaN</td>\n",
              "      <td>12003</td>\n",
              "      <td>f0fd0e92-448e-4ca8-86c9-e6594564318b</td>\n",
              "      <td>NaN</td>\n",
              "      <td>MISCELLANEOUS</td>\n",
              "      <td>81F</td>\n",
              "      <td>Miscellaneous/Mental Commitment</td>\n",
              "      <td>NaN</td>\n",
              "      <td>NaN</td>\n",
              "      <td>NaN</td>\n",
              "      <td>RALEIGH</td>\n",
              "      <td>Southwest</td>\n",
              "      <td>2016/03/07 03:52:00+00</td>\n",
              "      <td>2016</td>\n",
              "      <td>3</td>\n",
              "      <td>6</td>\n",
              "      <td>22</td>\n",
              "      <td>Sunday</td>\n",
              "      <td>0.0</td>\n",
              "      <td>0.0</td>\n",
              "      <td>RPD</td>\n",
              "      <td>2016/04/14 14:43:38.923+00</td>\n",
              "    </tr>\n",
              "  </tbody>\n",
              "</table>\n",
              "</div>"
            ],
            "text/plain": [
              "    X   Y  OBJECTID  ... longitude agency                updated_date\n",
              "0 NaN NaN     12001  ...       0.0    RPD  2017/01/19 20:11:28.950+00\n",
              "1 NaN NaN     12002  ...       0.0    RPD  2017/08/01 14:06:50.553+00\n",
              "2 NaN NaN     12003  ...       0.0    RPD  2016/04/14 14:43:38.923+00\n",
              "\n",
              "[3 rows x 23 columns]"
            ]
          },
          "metadata": {
            "tags": []
          },
          "execution_count": 3
        }
      ]
    },
    {
      "cell_type": "code",
      "metadata": {
        "colab": {
          "base_uri": "https://localhost:8080/",
          "height": 754
        },
        "id": "W9RyXDULRdBa",
        "outputId": "64b66d5c-0b76-4658-8b86-061b83484dee"
      },
      "source": [
        "def draw_missing_data_table(df):\n",
        "    ''' Returns a table of % missing from each feature column in the input dataframe'''\n",
        "    total = df.isnull().sum().sort_values(ascending = False)\n",
        "    percent = (df.isnull().sum()/ df.isnull().count()).sort_values(ascending = False)\n",
        "    missing_data = pd.concat([total, percent], axis = 1, keys = ['Total','Percent Missing'])\n",
        "    final_missing = missing_data.reset_index().rename(columns = \n",
        "                                                      {'index': 'feature', \n",
        "                                                       'Total': 'total null', \n",
        "                                                       'Percent Missing': '% of null values in the column'})\n",
        "    return final_missing\n",
        "\n",
        "draw_missing_data_table(police_df)"
      ],
      "execution_count": 4,
      "outputs": [
        {
          "output_type": "execute_result",
          "data": {
            "text/html": [
              "<div>\n",
              "<style scoped>\n",
              "    .dataframe tbody tr th:only-of-type {\n",
              "        vertical-align: middle;\n",
              "    }\n",
              "\n",
              "    .dataframe tbody tr th {\n",
              "        vertical-align: top;\n",
              "    }\n",
              "\n",
              "    .dataframe thead th {\n",
              "        text-align: right;\n",
              "    }\n",
              "</style>\n",
              "<table border=\"1\" class=\"dataframe\">\n",
              "  <thead>\n",
              "    <tr style=\"text-align: right;\">\n",
              "      <th></th>\n",
              "      <th>feature</th>\n",
              "      <th>total null</th>\n",
              "      <th>% of null values in the column</th>\n",
              "    </tr>\n",
              "  </thead>\n",
              "  <tbody>\n",
              "    <tr>\n",
              "      <th>0</th>\n",
              "      <td>crime_type</td>\n",
              "      <td>140077</td>\n",
              "      <td>0.414536</td>\n",
              "    </tr>\n",
              "    <tr>\n",
              "      <th>1</th>\n",
              "      <td>X</td>\n",
              "      <td>86288</td>\n",
              "      <td>0.255356</td>\n",
              "    </tr>\n",
              "    <tr>\n",
              "      <th>2</th>\n",
              "      <td>Y</td>\n",
              "      <td>86288</td>\n",
              "      <td>0.255356</td>\n",
              "    </tr>\n",
              "    <tr>\n",
              "      <th>3</th>\n",
              "      <td>reported_block_address</td>\n",
              "      <td>84120</td>\n",
              "      <td>0.248940</td>\n",
              "    </tr>\n",
              "    <tr>\n",
              "      <th>4</th>\n",
              "      <td>city_of_incident</td>\n",
              "      <td>84090</td>\n",
              "      <td>0.248851</td>\n",
              "    </tr>\n",
              "    <tr>\n",
              "      <th>5</th>\n",
              "      <td>case_number</td>\n",
              "      <td>84089</td>\n",
              "      <td>0.248848</td>\n",
              "    </tr>\n",
              "    <tr>\n",
              "      <th>6</th>\n",
              "      <td>city</td>\n",
              "      <td>2</td>\n",
              "      <td>0.000006</td>\n",
              "    </tr>\n",
              "    <tr>\n",
              "      <th>7</th>\n",
              "      <td>reported_month</td>\n",
              "      <td>0</td>\n",
              "      <td>0.000000</td>\n",
              "    </tr>\n",
              "    <tr>\n",
              "      <th>8</th>\n",
              "      <td>reported_year</td>\n",
              "      <td>0</td>\n",
              "      <td>0.000000</td>\n",
              "    </tr>\n",
              "    <tr>\n",
              "      <th>9</th>\n",
              "      <td>reported_date</td>\n",
              "      <td>0</td>\n",
              "      <td>0.000000</td>\n",
              "    </tr>\n",
              "    <tr>\n",
              "      <th>10</th>\n",
              "      <td>district</td>\n",
              "      <td>0</td>\n",
              "      <td>0.000000</td>\n",
              "    </tr>\n",
              "    <tr>\n",
              "      <th>11</th>\n",
              "      <td>agency</td>\n",
              "      <td>0</td>\n",
              "      <td>0.000000</td>\n",
              "    </tr>\n",
              "    <tr>\n",
              "      <th>12</th>\n",
              "      <td>reported_day</td>\n",
              "      <td>0</td>\n",
              "      <td>0.000000</td>\n",
              "    </tr>\n",
              "    <tr>\n",
              "      <th>13</th>\n",
              "      <td>reported_hour</td>\n",
              "      <td>0</td>\n",
              "      <td>0.000000</td>\n",
              "    </tr>\n",
              "    <tr>\n",
              "      <th>14</th>\n",
              "      <td>reported_dayofwk</td>\n",
              "      <td>0</td>\n",
              "      <td>0.000000</td>\n",
              "    </tr>\n",
              "    <tr>\n",
              "      <th>15</th>\n",
              "      <td>crime_description</td>\n",
              "      <td>0</td>\n",
              "      <td>0.000000</td>\n",
              "    </tr>\n",
              "    <tr>\n",
              "      <th>16</th>\n",
              "      <td>crime_code</td>\n",
              "      <td>0</td>\n",
              "      <td>0.000000</td>\n",
              "    </tr>\n",
              "    <tr>\n",
              "      <th>17</th>\n",
              "      <td>crime_category</td>\n",
              "      <td>0</td>\n",
              "      <td>0.000000</td>\n",
              "    </tr>\n",
              "    <tr>\n",
              "      <th>18</th>\n",
              "      <td>latitude</td>\n",
              "      <td>0</td>\n",
              "      <td>0.000000</td>\n",
              "    </tr>\n",
              "    <tr>\n",
              "      <th>19</th>\n",
              "      <td>GlobalID</td>\n",
              "      <td>0</td>\n",
              "      <td>0.000000</td>\n",
              "    </tr>\n",
              "    <tr>\n",
              "      <th>20</th>\n",
              "      <td>OBJECTID</td>\n",
              "      <td>0</td>\n",
              "      <td>0.000000</td>\n",
              "    </tr>\n",
              "    <tr>\n",
              "      <th>21</th>\n",
              "      <td>longitude</td>\n",
              "      <td>0</td>\n",
              "      <td>0.000000</td>\n",
              "    </tr>\n",
              "    <tr>\n",
              "      <th>22</th>\n",
              "      <td>updated_date</td>\n",
              "      <td>0</td>\n",
              "      <td>0.000000</td>\n",
              "    </tr>\n",
              "  </tbody>\n",
              "</table>\n",
              "</div>"
            ],
            "text/plain": [
              "                   feature  total null  % of null values in the column\n",
              "0               crime_type      140077                        0.414536\n",
              "1                        X       86288                        0.255356\n",
              "2                        Y       86288                        0.255356\n",
              "3   reported_block_address       84120                        0.248940\n",
              "4         city_of_incident       84090                        0.248851\n",
              "5              case_number       84089                        0.248848\n",
              "6                     city           2                        0.000006\n",
              "7           reported_month           0                        0.000000\n",
              "8            reported_year           0                        0.000000\n",
              "9            reported_date           0                        0.000000\n",
              "10                district           0                        0.000000\n",
              "11                  agency           0                        0.000000\n",
              "12            reported_day           0                        0.000000\n",
              "13           reported_hour           0                        0.000000\n",
              "14        reported_dayofwk           0                        0.000000\n",
              "15       crime_description           0                        0.000000\n",
              "16              crime_code           0                        0.000000\n",
              "17          crime_category           0                        0.000000\n",
              "18                latitude           0                        0.000000\n",
              "19                GlobalID           0                        0.000000\n",
              "20                OBJECTID           0                        0.000000\n",
              "21               longitude           0                        0.000000\n",
              "22            updated_date           0                        0.000000"
            ]
          },
          "metadata": {
            "tags": []
          },
          "execution_count": 4
        }
      ]
    },
    {
      "cell_type": "code",
      "metadata": {
        "colab": {
          "base_uri": "https://localhost:8080/"
        },
        "id": "kv6zvGEFQNm_",
        "outputId": "0f8a51d9-89ea-4ae9-83d8-03596367e807"
      },
      "source": [
        "police_copy['crime_type'].unique()"
      ],
      "execution_count": 5,
      "outputs": [
        {
          "output_type": "execute_result",
          "data": {
            "text/plain": [
              "array([nan, 'CRIMES AGAINST PERSONS', 'CRIMES AGAINST PROPERTY',\n",
              "       'CRIMES AGAINST SOCIETY'], dtype=object)"
            ]
          },
          "metadata": {
            "tags": []
          },
          "execution_count": 5
        }
      ]
    },
    {
      "cell_type": "markdown",
      "metadata": {
        "id": "3dEWkCk8R0HU"
      },
      "source": [
        "With lots of *crime_type missing* we will **drop** the feature\n",
        "\n"
      ]
    },
    {
      "cell_type": "code",
      "metadata": {
        "id": "sZXanDK0FjpX"
      },
      "source": [
        "crime_reported_dict = {np.nan: 0, 'CRIMES AGAINST PERSONS': 1, 'CRIMES AGAINST PROPERTY': 1, 'CRIMES AGAINST SOCIETY': 1}\n",
        "police_copy['crime_type_reported'] = police_copy['crime_type'].map(crime_reported_dict).astype(bool)\n",
        "police_copy.drop('crime_type', axis=1, inplace = True)"
      ],
      "execution_count": 6,
      "outputs": []
    },
    {
      "cell_type": "code",
      "metadata": {
        "colab": {
          "base_uri": "https://localhost:8080/",
          "height": 754
        },
        "id": "bnV2lQs_GTD6",
        "outputId": "08b236c0-17bb-40bd-cdf9-dd119d9f404d"
      },
      "source": [
        "draw_missing_data_table(police_copy)"
      ],
      "execution_count": 7,
      "outputs": [
        {
          "output_type": "execute_result",
          "data": {
            "text/html": [
              "<div>\n",
              "<style scoped>\n",
              "    .dataframe tbody tr th:only-of-type {\n",
              "        vertical-align: middle;\n",
              "    }\n",
              "\n",
              "    .dataframe tbody tr th {\n",
              "        vertical-align: top;\n",
              "    }\n",
              "\n",
              "    .dataframe thead th {\n",
              "        text-align: right;\n",
              "    }\n",
              "</style>\n",
              "<table border=\"1\" class=\"dataframe\">\n",
              "  <thead>\n",
              "    <tr style=\"text-align: right;\">\n",
              "      <th></th>\n",
              "      <th>feature</th>\n",
              "      <th>total null</th>\n",
              "      <th>% of null values in the column</th>\n",
              "    </tr>\n",
              "  </thead>\n",
              "  <tbody>\n",
              "    <tr>\n",
              "      <th>0</th>\n",
              "      <td>X</td>\n",
              "      <td>86288</td>\n",
              "      <td>0.255356</td>\n",
              "    </tr>\n",
              "    <tr>\n",
              "      <th>1</th>\n",
              "      <td>Y</td>\n",
              "      <td>86288</td>\n",
              "      <td>0.255356</td>\n",
              "    </tr>\n",
              "    <tr>\n",
              "      <th>2</th>\n",
              "      <td>reported_block_address</td>\n",
              "      <td>84120</td>\n",
              "      <td>0.248940</td>\n",
              "    </tr>\n",
              "    <tr>\n",
              "      <th>3</th>\n",
              "      <td>city_of_incident</td>\n",
              "      <td>84090</td>\n",
              "      <td>0.248851</td>\n",
              "    </tr>\n",
              "    <tr>\n",
              "      <th>4</th>\n",
              "      <td>case_number</td>\n",
              "      <td>84089</td>\n",
              "      <td>0.248848</td>\n",
              "    </tr>\n",
              "    <tr>\n",
              "      <th>5</th>\n",
              "      <td>city</td>\n",
              "      <td>2</td>\n",
              "      <td>0.000006</td>\n",
              "    </tr>\n",
              "    <tr>\n",
              "      <th>6</th>\n",
              "      <td>OBJECTID</td>\n",
              "      <td>0</td>\n",
              "      <td>0.000000</td>\n",
              "    </tr>\n",
              "    <tr>\n",
              "      <th>7</th>\n",
              "      <td>GlobalID</td>\n",
              "      <td>0</td>\n",
              "      <td>0.000000</td>\n",
              "    </tr>\n",
              "    <tr>\n",
              "      <th>8</th>\n",
              "      <td>crime_category</td>\n",
              "      <td>0</td>\n",
              "      <td>0.000000</td>\n",
              "    </tr>\n",
              "    <tr>\n",
              "      <th>9</th>\n",
              "      <td>crime_code</td>\n",
              "      <td>0</td>\n",
              "      <td>0.000000</td>\n",
              "    </tr>\n",
              "    <tr>\n",
              "      <th>10</th>\n",
              "      <td>crime_description</td>\n",
              "      <td>0</td>\n",
              "      <td>0.000000</td>\n",
              "    </tr>\n",
              "    <tr>\n",
              "      <th>11</th>\n",
              "      <td>crime_type_reported</td>\n",
              "      <td>0</td>\n",
              "      <td>0.000000</td>\n",
              "    </tr>\n",
              "    <tr>\n",
              "      <th>12</th>\n",
              "      <td>updated_date</td>\n",
              "      <td>0</td>\n",
              "      <td>0.000000</td>\n",
              "    </tr>\n",
              "    <tr>\n",
              "      <th>13</th>\n",
              "      <td>reported_date</td>\n",
              "      <td>0</td>\n",
              "      <td>0.000000</td>\n",
              "    </tr>\n",
              "    <tr>\n",
              "      <th>14</th>\n",
              "      <td>reported_year</td>\n",
              "      <td>0</td>\n",
              "      <td>0.000000</td>\n",
              "    </tr>\n",
              "    <tr>\n",
              "      <th>15</th>\n",
              "      <td>reported_month</td>\n",
              "      <td>0</td>\n",
              "      <td>0.000000</td>\n",
              "    </tr>\n",
              "    <tr>\n",
              "      <th>16</th>\n",
              "      <td>reported_day</td>\n",
              "      <td>0</td>\n",
              "      <td>0.000000</td>\n",
              "    </tr>\n",
              "    <tr>\n",
              "      <th>17</th>\n",
              "      <td>reported_hour</td>\n",
              "      <td>0</td>\n",
              "      <td>0.000000</td>\n",
              "    </tr>\n",
              "    <tr>\n",
              "      <th>18</th>\n",
              "      <td>reported_dayofwk</td>\n",
              "      <td>0</td>\n",
              "      <td>0.000000</td>\n",
              "    </tr>\n",
              "    <tr>\n",
              "      <th>19</th>\n",
              "      <td>latitude</td>\n",
              "      <td>0</td>\n",
              "      <td>0.000000</td>\n",
              "    </tr>\n",
              "    <tr>\n",
              "      <th>20</th>\n",
              "      <td>longitude</td>\n",
              "      <td>0</td>\n",
              "      <td>0.000000</td>\n",
              "    </tr>\n",
              "    <tr>\n",
              "      <th>21</th>\n",
              "      <td>agency</td>\n",
              "      <td>0</td>\n",
              "      <td>0.000000</td>\n",
              "    </tr>\n",
              "    <tr>\n",
              "      <th>22</th>\n",
              "      <td>district</td>\n",
              "      <td>0</td>\n",
              "      <td>0.000000</td>\n",
              "    </tr>\n",
              "  </tbody>\n",
              "</table>\n",
              "</div>"
            ],
            "text/plain": [
              "                   feature  total null  % of null values in the column\n",
              "0                        X       86288                        0.255356\n",
              "1                        Y       86288                        0.255356\n",
              "2   reported_block_address       84120                        0.248940\n",
              "3         city_of_incident       84090                        0.248851\n",
              "4              case_number       84089                        0.248848\n",
              "5                     city           2                        0.000006\n",
              "6                 OBJECTID           0                        0.000000\n",
              "7                 GlobalID           0                        0.000000\n",
              "8           crime_category           0                        0.000000\n",
              "9               crime_code           0                        0.000000\n",
              "10       crime_description           0                        0.000000\n",
              "11     crime_type_reported           0                        0.000000\n",
              "12            updated_date           0                        0.000000\n",
              "13           reported_date           0                        0.000000\n",
              "14           reported_year           0                        0.000000\n",
              "15          reported_month           0                        0.000000\n",
              "16            reported_day           0                        0.000000\n",
              "17           reported_hour           0                        0.000000\n",
              "18        reported_dayofwk           0                        0.000000\n",
              "19                latitude           0                        0.000000\n",
              "20               longitude           0                        0.000000\n",
              "21                  agency           0                        0.000000\n",
              "22                district           0                        0.000000"
            ]
          },
          "metadata": {
            "tags": []
          },
          "execution_count": 7
        }
      ]
    },
    {
      "cell_type": "code",
      "metadata": {
        "colab": {
          "base_uri": "https://localhost:8080/",
          "height": 694
        },
        "id": "L_-V5XyMU1s5",
        "outputId": "480d16a0-079f-4bfd-ebc9-411f203646c5"
      },
      "source": [
        "plt.figure(figsize = (10,10))\n",
        "plt.title('Initial Correlation of Given Features')\n",
        "sns.heatmap(police_copy.corr(), annot = True, cmap = 'Reds')\n",
        "plt.xticks(rotation= 30)"
      ],
      "execution_count": 8,
      "outputs": [
        {
          "output_type": "execute_result",
          "data": {
            "text/plain": [
              "(array([0.5, 1.5, 2.5, 3.5, 4.5, 5.5, 6.5, 7.5, 8.5, 9.5]),\n",
              " <a list of 10 Text major ticklabel objects>)"
            ]
          },
          "metadata": {
            "tags": []
          },
          "execution_count": 8
        },
        {
          "output_type": "display_data",
          "data": {
            "image/png": "[encoded data removed]",
            "text/plain": [
              "<Figure size 720x720 with 2 Axes>"
            ]
          },
          "metadata": {
            "tags": [],
            "needs_background": "light"
          }
        }
      ]
    },
    {
      "cell_type": "markdown",
      "metadata": {
        "id": "lcWQ7v5GG-eO"
      },
      "source": [
        "X = Longitude\n",
        "Y = Latitude\n",
        "\n",
        "**Drop EITHER X or Y** since they are perfectly correlated"
      ]
    },
    {
      "cell_type": "code",
      "metadata": {
        "colab": {
          "base_uri": "https://localhost:8080/",
          "height": 693
        },
        "id": "iul2y-2KG99x",
        "outputId": "5e9e4eba-a9fd-48d1-bb57-17de7d3d590d"
      },
      "source": [
        "police_copy.drop(['X', 'Y'], axis = 1, inplace = True)\n",
        "draw_missing_data_table(police_copy)"
      ],
      "execution_count": 9,
      "outputs": [
        {
          "output_type": "execute_result",
          "data": {
            "text/html": [
              "<div>\n",
              "<style scoped>\n",
              "    .dataframe tbody tr th:only-of-type {\n",
              "        vertical-align: middle;\n",
              "    }\n",
              "\n",
              "    .dataframe tbody tr th {\n",
              "        vertical-align: top;\n",
              "    }\n",
              "\n",
              "    .dataframe thead th {\n",
              "        text-align: right;\n",
              "    }\n",
              "</style>\n",
              "<table border=\"1\" class=\"dataframe\">\n",
              "  <thead>\n",
              "    <tr style=\"text-align: right;\">\n",
              "      <th></th>\n",
              "      <th>feature</th>\n",
              "      <th>total null</th>\n",
              "      <th>% of null values in the column</th>\n",
              "    </tr>\n",
              "  </thead>\n",
              "  <tbody>\n",
              "    <tr>\n",
              "      <th>0</th>\n",
              "      <td>reported_block_address</td>\n",
              "      <td>84120</td>\n",
              "      <td>0.248940</td>\n",
              "    </tr>\n",
              "    <tr>\n",
              "      <th>1</th>\n",
              "      <td>city_of_incident</td>\n",
              "      <td>84090</td>\n",
              "      <td>0.248851</td>\n",
              "    </tr>\n",
              "    <tr>\n",
              "      <th>2</th>\n",
              "      <td>case_number</td>\n",
              "      <td>84089</td>\n",
              "      <td>0.248848</td>\n",
              "    </tr>\n",
              "    <tr>\n",
              "      <th>3</th>\n",
              "      <td>city</td>\n",
              "      <td>2</td>\n",
              "      <td>0.000006</td>\n",
              "    </tr>\n",
              "    <tr>\n",
              "      <th>4</th>\n",
              "      <td>crime_type_reported</td>\n",
              "      <td>0</td>\n",
              "      <td>0.000000</td>\n",
              "    </tr>\n",
              "    <tr>\n",
              "      <th>5</th>\n",
              "      <td>district</td>\n",
              "      <td>0</td>\n",
              "      <td>0.000000</td>\n",
              "    </tr>\n",
              "    <tr>\n",
              "      <th>6</th>\n",
              "      <td>GlobalID</td>\n",
              "      <td>0</td>\n",
              "      <td>0.000000</td>\n",
              "    </tr>\n",
              "    <tr>\n",
              "      <th>7</th>\n",
              "      <td>crime_category</td>\n",
              "      <td>0</td>\n",
              "      <td>0.000000</td>\n",
              "    </tr>\n",
              "    <tr>\n",
              "      <th>8</th>\n",
              "      <td>crime_code</td>\n",
              "      <td>0</td>\n",
              "      <td>0.000000</td>\n",
              "    </tr>\n",
              "    <tr>\n",
              "      <th>9</th>\n",
              "      <td>crime_description</td>\n",
              "      <td>0</td>\n",
              "      <td>0.000000</td>\n",
              "    </tr>\n",
              "    <tr>\n",
              "      <th>10</th>\n",
              "      <td>reported_date</td>\n",
              "      <td>0</td>\n",
              "      <td>0.000000</td>\n",
              "    </tr>\n",
              "    <tr>\n",
              "      <th>11</th>\n",
              "      <td>updated_date</td>\n",
              "      <td>0</td>\n",
              "      <td>0.000000</td>\n",
              "    </tr>\n",
              "    <tr>\n",
              "      <th>12</th>\n",
              "      <td>reported_year</td>\n",
              "      <td>0</td>\n",
              "      <td>0.000000</td>\n",
              "    </tr>\n",
              "    <tr>\n",
              "      <th>13</th>\n",
              "      <td>reported_month</td>\n",
              "      <td>0</td>\n",
              "      <td>0.000000</td>\n",
              "    </tr>\n",
              "    <tr>\n",
              "      <th>14</th>\n",
              "      <td>reported_day</td>\n",
              "      <td>0</td>\n",
              "      <td>0.000000</td>\n",
              "    </tr>\n",
              "    <tr>\n",
              "      <th>15</th>\n",
              "      <td>reported_hour</td>\n",
              "      <td>0</td>\n",
              "      <td>0.000000</td>\n",
              "    </tr>\n",
              "    <tr>\n",
              "      <th>16</th>\n",
              "      <td>reported_dayofwk</td>\n",
              "      <td>0</td>\n",
              "      <td>0.000000</td>\n",
              "    </tr>\n",
              "    <tr>\n",
              "      <th>17</th>\n",
              "      <td>latitude</td>\n",
              "      <td>0</td>\n",
              "      <td>0.000000</td>\n",
              "    </tr>\n",
              "    <tr>\n",
              "      <th>18</th>\n",
              "      <td>longitude</td>\n",
              "      <td>0</td>\n",
              "      <td>0.000000</td>\n",
              "    </tr>\n",
              "    <tr>\n",
              "      <th>19</th>\n",
              "      <td>agency</td>\n",
              "      <td>0</td>\n",
              "      <td>0.000000</td>\n",
              "    </tr>\n",
              "    <tr>\n",
              "      <th>20</th>\n",
              "      <td>OBJECTID</td>\n",
              "      <td>0</td>\n",
              "      <td>0.000000</td>\n",
              "    </tr>\n",
              "  </tbody>\n",
              "</table>\n",
              "</div>"
            ],
            "text/plain": [
              "                   feature  total null  % of null values in the column\n",
              "0   reported_block_address       84120                        0.248940\n",
              "1         city_of_incident       84090                        0.248851\n",
              "2              case_number       84089                        0.248848\n",
              "3                     city           2                        0.000006\n",
              "4      crime_type_reported           0                        0.000000\n",
              "5                 district           0                        0.000000\n",
              "6                 GlobalID           0                        0.000000\n",
              "7           crime_category           0                        0.000000\n",
              "8               crime_code           0                        0.000000\n",
              "9        crime_description           0                        0.000000\n",
              "10           reported_date           0                        0.000000\n",
              "11            updated_date           0                        0.000000\n",
              "12           reported_year           0                        0.000000\n",
              "13          reported_month           0                        0.000000\n",
              "14            reported_day           0                        0.000000\n",
              "15           reported_hour           0                        0.000000\n",
              "16        reported_dayofwk           0                        0.000000\n",
              "17                latitude           0                        0.000000\n",
              "18               longitude           0                        0.000000\n",
              "19                  agency           0                        0.000000\n",
              "20                OBJECTID           0                        0.000000"
            ]
          },
          "metadata": {
            "tags": []
          },
          "execution_count": 9
        }
      ]
    },
    {
      "cell_type": "markdown",
      "metadata": {
        "id": "R2PVwPjELAg8"
      },
      "source": [
        "**Drop Unique Identifiers**:\n",
        "- OBJECTID\n",
        "- GlobalID"
      ]
    },
    {
      "cell_type": "code",
      "metadata": {
        "id": "f-QD6Ue7LBJ6"
      },
      "source": [
        "police_copy.drop(['OBJECTID', 'GlobalID'], axis = 1, inplace= True)"
      ],
      "execution_count": 10,
      "outputs": []
    },
    {
      "cell_type": "code",
      "metadata": {
        "id": "I7agiCfYRwvI"
      },
      "source": [
        "police_copy[police_copy.city.isna()]\n",
        "\n",
        "#Drop City rows that are NA\n",
        "police_copy.drop([194181, 326946], axis = 0, inplace= True)"
      ],
      "execution_count": 11,
      "outputs": []
    },
    {
      "cell_type": "code",
      "metadata": {
        "colab": {
          "base_uri": "https://localhost:8080/"
        },
        "id": "WcFEp-tcMWMD",
        "outputId": "26f678fe-8949-4085-c4a9-dea0af747397"
      },
      "source": [
        "police_df['agency'].unique()\n",
        "print('The agency of authority is the Raleigh PD (RPD)')\n",
        "police_df.drop('agency', axis = 1, inplace = True)"
      ],
      "execution_count": 12,
      "outputs": [
        {
          "output_type": "stream",
          "text": [
            "The agency of authority is the Raleigh PD (RPD)\n"
          ],
          "name": "stdout"
        }
      ]
    },
    {
      "cell_type": "markdown",
      "metadata": {
        "id": "Bu8rDGO4L6vw"
      },
      "source": [
        "Drop Records that don't have a case_number"
      ]
    },
    {
      "cell_type": "code",
      "metadata": {
        "id": "ArFWE8EyL6VN"
      },
      "source": [
        "police_copy['case_number'].dropna(inplace = True)"
      ],
      "execution_count": 13,
      "outputs": []
    },
    {
      "cell_type": "code",
      "metadata": {
        "colab": {
          "base_uri": "https://localhost:8080/",
          "height": 632
        },
        "id": "6_KZGgq-PWLB",
        "outputId": "e2b5d1ae-f436-4814-da5b-39b702610101"
      },
      "source": [
        "copy_index = police_copy.index\n",
        "null_case = police_copy['case_number'].isnull()\n",
        "\n",
        "null_case_indices = copy_index[null_case].tolist()\n",
        "\n",
        "police_copy.drop(null_case_indices, axis = 0, inplace = True)\n",
        "draw_missing_data_table(police_copy)"
      ],
      "execution_count": 14,
      "outputs": [
        {
          "output_type": "execute_result",
          "data": {
            "text/html": [
              "<div>\n",
              "<style scoped>\n",
              "    .dataframe tbody tr th:only-of-type {\n",
              "        vertical-align: middle;\n",
              "    }\n",
              "\n",
              "    .dataframe tbody tr th {\n",
              "        vertical-align: top;\n",
              "    }\n",
              "\n",
              "    .dataframe thead th {\n",
              "        text-align: right;\n",
              "    }\n",
              "</style>\n",
              "<table border=\"1\" class=\"dataframe\">\n",
              "  <thead>\n",
              "    <tr style=\"text-align: right;\">\n",
              "      <th></th>\n",
              "      <th>feature</th>\n",
              "      <th>total null</th>\n",
              "      <th>% of null values in the column</th>\n",
              "    </tr>\n",
              "  </thead>\n",
              "  <tbody>\n",
              "    <tr>\n",
              "      <th>0</th>\n",
              "      <td>reported_block_address</td>\n",
              "      <td>31</td>\n",
              "      <td>0.000122</td>\n",
              "    </tr>\n",
              "    <tr>\n",
              "      <th>1</th>\n",
              "      <td>city_of_incident</td>\n",
              "      <td>1</td>\n",
              "      <td>0.000004</td>\n",
              "    </tr>\n",
              "    <tr>\n",
              "      <th>2</th>\n",
              "      <td>crime_type_reported</td>\n",
              "      <td>0</td>\n",
              "      <td>0.000000</td>\n",
              "    </tr>\n",
              "    <tr>\n",
              "      <th>3</th>\n",
              "      <td>reported_date</td>\n",
              "      <td>0</td>\n",
              "      <td>0.000000</td>\n",
              "    </tr>\n",
              "    <tr>\n",
              "      <th>4</th>\n",
              "      <td>crime_category</td>\n",
              "      <td>0</td>\n",
              "      <td>0.000000</td>\n",
              "    </tr>\n",
              "    <tr>\n",
              "      <th>5</th>\n",
              "      <td>crime_code</td>\n",
              "      <td>0</td>\n",
              "      <td>0.000000</td>\n",
              "    </tr>\n",
              "    <tr>\n",
              "      <th>6</th>\n",
              "      <td>crime_description</td>\n",
              "      <td>0</td>\n",
              "      <td>0.000000</td>\n",
              "    </tr>\n",
              "    <tr>\n",
              "      <th>7</th>\n",
              "      <td>city</td>\n",
              "      <td>0</td>\n",
              "      <td>0.000000</td>\n",
              "    </tr>\n",
              "    <tr>\n",
              "      <th>8</th>\n",
              "      <td>district</td>\n",
              "      <td>0</td>\n",
              "      <td>0.000000</td>\n",
              "    </tr>\n",
              "    <tr>\n",
              "      <th>9</th>\n",
              "      <td>reported_year</td>\n",
              "      <td>0</td>\n",
              "      <td>0.000000</td>\n",
              "    </tr>\n",
              "    <tr>\n",
              "      <th>10</th>\n",
              "      <td>updated_date</td>\n",
              "      <td>0</td>\n",
              "      <td>0.000000</td>\n",
              "    </tr>\n",
              "    <tr>\n",
              "      <th>11</th>\n",
              "      <td>reported_month</td>\n",
              "      <td>0</td>\n",
              "      <td>0.000000</td>\n",
              "    </tr>\n",
              "    <tr>\n",
              "      <th>12</th>\n",
              "      <td>reported_day</td>\n",
              "      <td>0</td>\n",
              "      <td>0.000000</td>\n",
              "    </tr>\n",
              "    <tr>\n",
              "      <th>13</th>\n",
              "      <td>reported_hour</td>\n",
              "      <td>0</td>\n",
              "      <td>0.000000</td>\n",
              "    </tr>\n",
              "    <tr>\n",
              "      <th>14</th>\n",
              "      <td>reported_dayofwk</td>\n",
              "      <td>0</td>\n",
              "      <td>0.000000</td>\n",
              "    </tr>\n",
              "    <tr>\n",
              "      <th>15</th>\n",
              "      <td>latitude</td>\n",
              "      <td>0</td>\n",
              "      <td>0.000000</td>\n",
              "    </tr>\n",
              "    <tr>\n",
              "      <th>16</th>\n",
              "      <td>longitude</td>\n",
              "      <td>0</td>\n",
              "      <td>0.000000</td>\n",
              "    </tr>\n",
              "    <tr>\n",
              "      <th>17</th>\n",
              "      <td>agency</td>\n",
              "      <td>0</td>\n",
              "      <td>0.000000</td>\n",
              "    </tr>\n",
              "    <tr>\n",
              "      <th>18</th>\n",
              "      <td>case_number</td>\n",
              "      <td>0</td>\n",
              "      <td>0.000000</td>\n",
              "    </tr>\n",
              "  </tbody>\n",
              "</table>\n",
              "</div>"
            ],
            "text/plain": [
              "                   feature  total null  % of null values in the column\n",
              "0   reported_block_address          31                        0.000122\n",
              "1         city_of_incident           1                        0.000004\n",
              "2      crime_type_reported           0                        0.000000\n",
              "3            reported_date           0                        0.000000\n",
              "4           crime_category           0                        0.000000\n",
              "5               crime_code           0                        0.000000\n",
              "6        crime_description           0                        0.000000\n",
              "7                     city           0                        0.000000\n",
              "8                 district           0                        0.000000\n",
              "9            reported_year           0                        0.000000\n",
              "10            updated_date           0                        0.000000\n",
              "11          reported_month           0                        0.000000\n",
              "12            reported_day           0                        0.000000\n",
              "13           reported_hour           0                        0.000000\n",
              "14        reported_dayofwk           0                        0.000000\n",
              "15                latitude           0                        0.000000\n",
              "16               longitude           0                        0.000000\n",
              "17                  agency           0                        0.000000\n",
              "18             case_number           0                        0.000000"
            ]
          },
          "metadata": {
            "tags": []
          },
          "execution_count": 14
        }
      ]
    },
    {
      "cell_type": "code",
      "metadata": {
        "colab": {
          "base_uri": "https://localhost:8080/",
          "height": 632
        },
        "id": "Zm5wlZAUUA3P",
        "outputId": "233bb213-92f2-4fa4-fd0c-65e51f6c3773"
      },
      "source": [
        "#Drop Reported_block_address null row\n",
        "copy_index = police_copy.index\n",
        "null_block = police_copy['reported_block_address'].isnull()\n",
        "\n",
        "null_block_indices = copy_index[null_block].tolist()\n",
        "\n",
        "police_copy.drop(null_block_indices, axis = 0, inplace = True)\n",
        "draw_missing_data_table(police_copy)"
      ],
      "execution_count": 15,
      "outputs": [
        {
          "output_type": "execute_result",
          "data": {
            "text/html": [
              "<div>\n",
              "<style scoped>\n",
              "    .dataframe tbody tr th:only-of-type {\n",
              "        vertical-align: middle;\n",
              "    }\n",
              "\n",
              "    .dataframe tbody tr th {\n",
              "        vertical-align: top;\n",
              "    }\n",
              "\n",
              "    .dataframe thead th {\n",
              "        text-align: right;\n",
              "    }\n",
              "</style>\n",
              "<table border=\"1\" class=\"dataframe\">\n",
              "  <thead>\n",
              "    <tr style=\"text-align: right;\">\n",
              "      <th></th>\n",
              "      <th>feature</th>\n",
              "      <th>total null</th>\n",
              "      <th>% of null values in the column</th>\n",
              "    </tr>\n",
              "  </thead>\n",
              "  <tbody>\n",
              "    <tr>\n",
              "      <th>0</th>\n",
              "      <td>city_of_incident</td>\n",
              "      <td>1</td>\n",
              "      <td>0.000004</td>\n",
              "    </tr>\n",
              "    <tr>\n",
              "      <th>1</th>\n",
              "      <td>crime_type_reported</td>\n",
              "      <td>0</td>\n",
              "      <td>0.000000</td>\n",
              "    </tr>\n",
              "    <tr>\n",
              "      <th>2</th>\n",
              "      <td>reported_date</td>\n",
              "      <td>0</td>\n",
              "      <td>0.000000</td>\n",
              "    </tr>\n",
              "    <tr>\n",
              "      <th>3</th>\n",
              "      <td>crime_category</td>\n",
              "      <td>0</td>\n",
              "      <td>0.000000</td>\n",
              "    </tr>\n",
              "    <tr>\n",
              "      <th>4</th>\n",
              "      <td>crime_code</td>\n",
              "      <td>0</td>\n",
              "      <td>0.000000</td>\n",
              "    </tr>\n",
              "    <tr>\n",
              "      <th>5</th>\n",
              "      <td>crime_description</td>\n",
              "      <td>0</td>\n",
              "      <td>0.000000</td>\n",
              "    </tr>\n",
              "    <tr>\n",
              "      <th>6</th>\n",
              "      <td>reported_block_address</td>\n",
              "      <td>0</td>\n",
              "      <td>0.000000</td>\n",
              "    </tr>\n",
              "    <tr>\n",
              "      <th>7</th>\n",
              "      <td>city</td>\n",
              "      <td>0</td>\n",
              "      <td>0.000000</td>\n",
              "    </tr>\n",
              "    <tr>\n",
              "      <th>8</th>\n",
              "      <td>district</td>\n",
              "      <td>0</td>\n",
              "      <td>0.000000</td>\n",
              "    </tr>\n",
              "    <tr>\n",
              "      <th>9</th>\n",
              "      <td>reported_year</td>\n",
              "      <td>0</td>\n",
              "      <td>0.000000</td>\n",
              "    </tr>\n",
              "    <tr>\n",
              "      <th>10</th>\n",
              "      <td>updated_date</td>\n",
              "      <td>0</td>\n",
              "      <td>0.000000</td>\n",
              "    </tr>\n",
              "    <tr>\n",
              "      <th>11</th>\n",
              "      <td>reported_month</td>\n",
              "      <td>0</td>\n",
              "      <td>0.000000</td>\n",
              "    </tr>\n",
              "    <tr>\n",
              "      <th>12</th>\n",
              "      <td>reported_day</td>\n",
              "      <td>0</td>\n",
              "      <td>0.000000</td>\n",
              "    </tr>\n",
              "    <tr>\n",
              "      <th>13</th>\n",
              "      <td>reported_hour</td>\n",
              "      <td>0</td>\n",
              "      <td>0.000000</td>\n",
              "    </tr>\n",
              "    <tr>\n",
              "      <th>14</th>\n",
              "      <td>reported_dayofwk</td>\n",
              "      <td>0</td>\n",
              "      <td>0.000000</td>\n",
              "    </tr>\n",
              "    <tr>\n",
              "      <th>15</th>\n",
              "      <td>latitude</td>\n",
              "      <td>0</td>\n",
              "      <td>0.000000</td>\n",
              "    </tr>\n",
              "    <tr>\n",
              "      <th>16</th>\n",
              "      <td>longitude</td>\n",
              "      <td>0</td>\n",
              "      <td>0.000000</td>\n",
              "    </tr>\n",
              "    <tr>\n",
              "      <th>17</th>\n",
              "      <td>agency</td>\n",
              "      <td>0</td>\n",
              "      <td>0.000000</td>\n",
              "    </tr>\n",
              "    <tr>\n",
              "      <th>18</th>\n",
              "      <td>case_number</td>\n",
              "      <td>0</td>\n",
              "      <td>0.000000</td>\n",
              "    </tr>\n",
              "  </tbody>\n",
              "</table>\n",
              "</div>"
            ],
            "text/plain": [
              "                   feature  total null  % of null values in the column\n",
              "0         city_of_incident           1                        0.000004\n",
              "1      crime_type_reported           0                        0.000000\n",
              "2            reported_date           0                        0.000000\n",
              "3           crime_category           0                        0.000000\n",
              "4               crime_code           0                        0.000000\n",
              "5        crime_description           0                        0.000000\n",
              "6   reported_block_address           0                        0.000000\n",
              "7                     city           0                        0.000000\n",
              "8                 district           0                        0.000000\n",
              "9            reported_year           0                        0.000000\n",
              "10            updated_date           0                        0.000000\n",
              "11          reported_month           0                        0.000000\n",
              "12            reported_day           0                        0.000000\n",
              "13           reported_hour           0                        0.000000\n",
              "14        reported_dayofwk           0                        0.000000\n",
              "15                latitude           0                        0.000000\n",
              "16               longitude           0                        0.000000\n",
              "17                  agency           0                        0.000000\n",
              "18             case_number           0                        0.000000"
            ]
          },
          "metadata": {
            "tags": []
          },
          "execution_count": 15
        }
      ]
    },
    {
      "cell_type": "code",
      "metadata": {
        "colab": {
          "base_uri": "https://localhost:8080/",
          "height": 632
        },
        "id": "XZZnZS_WMW_W",
        "outputId": "fd69560c-e676-4dc0-e354-8aa2540f807e"
      },
      "source": [
        "#Drop City_of_incident null row\n",
        "copy_index = police_copy.index\n",
        "null_incidentcity = police_copy['city_of_incident'].isnull()\n",
        "\n",
        "null_city_indices = copy_index[null_incidentcity].tolist()\n",
        "\n",
        "police_copy.drop(null_city_indices, axis = 0, inplace = True)\n",
        "draw_missing_data_table(police_copy)"
      ],
      "execution_count": 16,
      "outputs": [
        {
          "output_type": "execute_result",
          "data": {
            "text/html": [
              "<div>\n",
              "<style scoped>\n",
              "    .dataframe tbody tr th:only-of-type {\n",
              "        vertical-align: middle;\n",
              "    }\n",
              "\n",
              "    .dataframe tbody tr th {\n",
              "        vertical-align: top;\n",
              "    }\n",
              "\n",
              "    .dataframe thead th {\n",
              "        text-align: right;\n",
              "    }\n",
              "</style>\n",
              "<table border=\"1\" class=\"dataframe\">\n",
              "  <thead>\n",
              "    <tr style=\"text-align: right;\">\n",
              "      <th></th>\n",
              "      <th>feature</th>\n",
              "      <th>total null</th>\n",
              "      <th>% of null values in the column</th>\n",
              "    </tr>\n",
              "  </thead>\n",
              "  <tbody>\n",
              "    <tr>\n",
              "      <th>0</th>\n",
              "      <td>crime_type_reported</td>\n",
              "      <td>0</td>\n",
              "      <td>0.0</td>\n",
              "    </tr>\n",
              "    <tr>\n",
              "      <th>1</th>\n",
              "      <td>reported_date</td>\n",
              "      <td>0</td>\n",
              "      <td>0.0</td>\n",
              "    </tr>\n",
              "    <tr>\n",
              "      <th>2</th>\n",
              "      <td>crime_category</td>\n",
              "      <td>0</td>\n",
              "      <td>0.0</td>\n",
              "    </tr>\n",
              "    <tr>\n",
              "      <th>3</th>\n",
              "      <td>crime_code</td>\n",
              "      <td>0</td>\n",
              "      <td>0.0</td>\n",
              "    </tr>\n",
              "    <tr>\n",
              "      <th>4</th>\n",
              "      <td>crime_description</td>\n",
              "      <td>0</td>\n",
              "      <td>0.0</td>\n",
              "    </tr>\n",
              "    <tr>\n",
              "      <th>5</th>\n",
              "      <td>reported_block_address</td>\n",
              "      <td>0</td>\n",
              "      <td>0.0</td>\n",
              "    </tr>\n",
              "    <tr>\n",
              "      <th>6</th>\n",
              "      <td>city_of_incident</td>\n",
              "      <td>0</td>\n",
              "      <td>0.0</td>\n",
              "    </tr>\n",
              "    <tr>\n",
              "      <th>7</th>\n",
              "      <td>city</td>\n",
              "      <td>0</td>\n",
              "      <td>0.0</td>\n",
              "    </tr>\n",
              "    <tr>\n",
              "      <th>8</th>\n",
              "      <td>district</td>\n",
              "      <td>0</td>\n",
              "      <td>0.0</td>\n",
              "    </tr>\n",
              "    <tr>\n",
              "      <th>9</th>\n",
              "      <td>reported_year</td>\n",
              "      <td>0</td>\n",
              "      <td>0.0</td>\n",
              "    </tr>\n",
              "    <tr>\n",
              "      <th>10</th>\n",
              "      <td>updated_date</td>\n",
              "      <td>0</td>\n",
              "      <td>0.0</td>\n",
              "    </tr>\n",
              "    <tr>\n",
              "      <th>11</th>\n",
              "      <td>reported_month</td>\n",
              "      <td>0</td>\n",
              "      <td>0.0</td>\n",
              "    </tr>\n",
              "    <tr>\n",
              "      <th>12</th>\n",
              "      <td>reported_day</td>\n",
              "      <td>0</td>\n",
              "      <td>0.0</td>\n",
              "    </tr>\n",
              "    <tr>\n",
              "      <th>13</th>\n",
              "      <td>reported_hour</td>\n",
              "      <td>0</td>\n",
              "      <td>0.0</td>\n",
              "    </tr>\n",
              "    <tr>\n",
              "      <th>14</th>\n",
              "      <td>reported_dayofwk</td>\n",
              "      <td>0</td>\n",
              "      <td>0.0</td>\n",
              "    </tr>\n",
              "    <tr>\n",
              "      <th>15</th>\n",
              "      <td>latitude</td>\n",
              "      <td>0</td>\n",
              "      <td>0.0</td>\n",
              "    </tr>\n",
              "    <tr>\n",
              "      <th>16</th>\n",
              "      <td>longitude</td>\n",
              "      <td>0</td>\n",
              "      <td>0.0</td>\n",
              "    </tr>\n",
              "    <tr>\n",
              "      <th>17</th>\n",
              "      <td>agency</td>\n",
              "      <td>0</td>\n",
              "      <td>0.0</td>\n",
              "    </tr>\n",
              "    <tr>\n",
              "      <th>18</th>\n",
              "      <td>case_number</td>\n",
              "      <td>0</td>\n",
              "      <td>0.0</td>\n",
              "    </tr>\n",
              "  </tbody>\n",
              "</table>\n",
              "</div>"
            ],
            "text/plain": [
              "                   feature  total null  % of null values in the column\n",
              "0      crime_type_reported           0                             0.0\n",
              "1            reported_date           0                             0.0\n",
              "2           crime_category           0                             0.0\n",
              "3               crime_code           0                             0.0\n",
              "4        crime_description           0                             0.0\n",
              "5   reported_block_address           0                             0.0\n",
              "6         city_of_incident           0                             0.0\n",
              "7                     city           0                             0.0\n",
              "8                 district           0                             0.0\n",
              "9            reported_year           0                             0.0\n",
              "10            updated_date           0                             0.0\n",
              "11          reported_month           0                             0.0\n",
              "12            reported_day           0                             0.0\n",
              "13           reported_hour           0                             0.0\n",
              "14        reported_dayofwk           0                             0.0\n",
              "15                latitude           0                             0.0\n",
              "16               longitude           0                             0.0\n",
              "17                  agency           0                             0.0\n",
              "18             case_number           0                             0.0"
            ]
          },
          "metadata": {
            "tags": []
          },
          "execution_count": 16
        }
      ]
    },
    {
      "cell_type": "code",
      "metadata": {
        "colab": {
          "base_uri": "https://localhost:8080/"
        },
        "id": "V1m8XC8KVv_w",
        "outputId": "e52a6cec-bfab-46dc-ca1a-d2af4d50c922"
      },
      "source": [
        "print('We were able to keep %s amount of Data after removing Null Rows' % round(100*police_copy.shape[0]/police_df.shape[0], 2))"
      ],
      "execution_count": 17,
      "outputs": [
        {
          "output_type": "stream",
          "text": [
            "We were able to keep 75.11 amount of Data after removing Null Rows\n"
          ],
          "name": "stdout"
        }
      ]
    },
    {
      "cell_type": "markdown",
      "metadata": {
        "id": "se4gmfq7YsPw"
      },
      "source": [
        "# Cities have overlaps from miscapitalied entry"
      ]
    },
    {
      "cell_type": "code",
      "metadata": {
        "colab": {
          "base_uri": "https://localhost:8080/"
        },
        "id": "RI4zDVQixy_0",
        "outputId": "b7c5c168-31b9-4419-ca44-828b084d24ec"
      },
      "source": [
        "police_copy['city'].unique()"
      ],
      "execution_count": 18,
      "outputs": [
        {
          "output_type": "execute_result",
          "data": {
            "text/plain": [
              "array(['RALEIGH', 'WAKE FOREST', 'Garner', 'MORRISVILLE', 'Cary',\n",
              "       'MAITLAND', 'APEX', 'wake forest', 'garner', 'FUQUAY VARINA',\n",
              "       'HOLLY SPRINGS', 'KNIGHTDALE', 'CARY', 'Raleigh', 'GARNER',\n",
              "       'Fuquay Varina', 'raleigh', 'ZEBULON', 'WENDELL', 'Wilmington',\n",
              "       'COLUMBIA', 'MELBOURNE', 'BENTON HARBOR, MI', 'GOSHEN',\n",
              "       'Knightdale', 'Wendell', 'Durham', 'cary', 'Youngsville',\n",
              "       'Morrisville', 'durham', 'Holly Springs', 'Wake Forest', '`',\n",
              "       'Zebulon', 'Clayton'], dtype=object)"
            ]
          },
          "metadata": {
            "tags": []
          },
          "execution_count": 18
        }
      ]
    },
    {
      "cell_type": "code",
      "metadata": {
        "colab": {
          "base_uri": "https://localhost:8080/"
        },
        "id": "MoZ_ymJpECn3",
        "outputId": "539617f3-d281-49f2-8120-1a5557e3006f"
      },
      "source": [
        "police_copy[police_copy['city'] == '`']\n",
        "print('Map the \"`\" to RALEIGH after checking the Longitude and Latitude')"
      ],
      "execution_count": 19,
      "outputs": [
        {
          "output_type": "stream",
          "text": [
            "Map the \"`\" to RALEIGH after checking the Longitude and Latitude\n"
          ],
          "name": "stdout"
        }
      ]
    },
    {
      "cell_type": "code",
      "metadata": {
        "id": "Kagq_F_-rIV6"
      },
      "source": [
        "city_dict = {'RALEIGH': 'RALEIGH',\n",
        " 'GARNER': 'GARNER',\n",
        " 'WAKE FOREST': 'WAKE FOREST',\n",
        " 'Raleigh': 'RALEIGH',\n",
        " 'Miscellaneous/Missing Person (16-over)' : 'UNREPORTED',\n",
        " 'raleigh': 'RALEIGH',\n",
        " 'Garner': 'GARNER',\n",
        " 'MORRISVILLE': 'MORRISVILLE',\n",
        " 'Cary': 'CARY',\n",
        " 'MAITLAND': 'MAITLAND',\n",
        " 'APEX': 'APEX',\n",
        " 'wake forest': 'WAKE FOREST',\n",
        " 'garner': 'GARNER',\n",
        " 'FUQUAY VARINA': 'FUQUAY VARINA',\n",
        " 'HOLLY SPRINGS': 'HOLLY SPRINGS',\n",
        " 'KNIGHTDALE': 'KNIGHTDALE',\n",
        " 'CARY': 'CARY',\n",
        " 'Fuquay Varina': 'FUQUAY VARINA',\n",
        " 'ZEBULON': 'ZEBULON',\n",
        " 'WENDELL': 'WENDELL',\n",
        " 'Wilmington': 'WILMINGTON',\n",
        " 'COLUMBIA': 'COLUMBIA',\n",
        " 'MELBOURNE': 'MELBOURNE',\n",
        " 'SALEMBURG': 'SALEMBURG',\n",
        " 'BENTON HARBOR, MI': 'BENTON HARBOR, MI',\n",
        " 'GOSHEN': 'GOSHEN',\n",
        " np.nan: 'UNREPORTED',\n",
        " 'Knightdale': 'KNIGHTDALE',\n",
        " 'Wendell': 'WENDELL',\n",
        " 'Rolesville': 'ROLESVILLE',\n",
        " 'Wake Forest': 'WAKE FOREST',\n",
        " 'Durham': 'DURHAM',\n",
        " 'cary': 'CARY',\n",
        " 'Youngsville': 'YOUNGSVILLE',\n",
        " 'Morrisville': 'MORRISVILLE',\n",
        " 'durham': 'DURHAM',\n",
        " 'Holly Springs': 'HOLLY SPRINGS',\n",
        " '`': 'RALEIGH',\n",
        " 'Zebulon': 'ZEBULON',\n",
        " 'Clayton': 'CLAYTON',\n",
        " 'SPARTA': 'SPARTA'}"
      ],
      "execution_count": 20,
      "outputs": []
    },
    {
      "cell_type": "code",
      "metadata": {
        "colab": {
          "base_uri": "https://localhost:8080/"
        },
        "id": "f4o_OobdEjNV",
        "outputId": "e48e37d2-1063-4765-9fc6-1911ea1ec1fc"
      },
      "source": [
        "police_copy['city'] = police_copy['city'].map(city_dict)\n",
        "police_copy['city'].value_counts()"
      ],
      "execution_count": 21,
      "outputs": [
        {
          "output_type": "execute_result",
          "data": {
            "text/plain": [
              "RALEIGH              253631\n",
              "GARNER                   29\n",
              "CARY                     27\n",
              "WAKE FOREST              25\n",
              "MORRISVILLE              22\n",
              "APEX                     10\n",
              "HOLLY SPRINGS            10\n",
              "ZEBULON                   8\n",
              "FUQUAY VARINA             7\n",
              "DURHAM                    5\n",
              "WENDELL                   5\n",
              "KNIGHTDALE                5\n",
              "YOUNGSVILLE               1\n",
              "BENTON HARBOR, MI         1\n",
              "MAITLAND                  1\n",
              "WILMINGTON                1\n",
              "COLUMBIA                  1\n",
              "CLAYTON                   1\n",
              "MELBOURNE                 1\n",
              "GOSHEN                    1\n",
              "Name: city, dtype: int64"
            ]
          },
          "metadata": {
            "tags": []
          },
          "execution_count": 21
        }
      ]
    },
    {
      "cell_type": "markdown",
      "metadata": {
        "id": "aRFU3cKrtHzn"
      },
      "source": [
        "# Transform Feature Columns so they are ML Model Digestible"
      ]
    },
    {
      "cell_type": "code",
      "metadata": {
        "colab": {
          "base_uri": "https://localhost:8080/",
          "height": 309
        },
        "id": "51dtkuvwW8nc",
        "outputId": "7755dec7-8082-457b-d3b5-ae38769b5a89"
      },
      "source": [
        "police_copy.head()"
      ],
      "execution_count": 22,
      "outputs": [
        {
          "output_type": "execute_result",
          "data": {
            "text/html": [
              "<div>\n",
              "<style scoped>\n",
              "    .dataframe tbody tr th:only-of-type {\n",
              "        vertical-align: middle;\n",
              "    }\n",
              "\n",
              "    .dataframe tbody tr th {\n",
              "        vertical-align: top;\n",
              "    }\n",
              "\n",
              "    .dataframe thead th {\n",
              "        text-align: right;\n",
              "    }\n",
              "</style>\n",
              "<table border=\"1\" class=\"dataframe\">\n",
              "  <thead>\n",
              "    <tr style=\"text-align: right;\">\n",
              "      <th></th>\n",
              "      <th>case_number</th>\n",
              "      <th>crime_category</th>\n",
              "      <th>crime_code</th>\n",
              "      <th>crime_description</th>\n",
              "      <th>reported_block_address</th>\n",
              "      <th>city_of_incident</th>\n",
              "      <th>city</th>\n",
              "      <th>district</th>\n",
              "      <th>reported_date</th>\n",
              "      <th>reported_year</th>\n",
              "      <th>reported_month</th>\n",
              "      <th>reported_day</th>\n",
              "      <th>reported_hour</th>\n",
              "      <th>reported_dayofwk</th>\n",
              "      <th>latitude</th>\n",
              "      <th>longitude</th>\n",
              "      <th>agency</th>\n",
              "      <th>updated_date</th>\n",
              "      <th>crime_type_reported</th>\n",
              "    </tr>\n",
              "  </thead>\n",
              "  <tbody>\n",
              "    <tr>\n",
              "      <th>230</th>\n",
              "      <td>P15056938</td>\n",
              "      <td>SEX OFFENSES</td>\n",
              "      <td>17N</td>\n",
              "      <td>Sex Offense/Peeping Tom</td>\n",
              "      <td>200 BLOCK  LIGHTNER LN</td>\n",
              "      <td>RALEIGH</td>\n",
              "      <td>RALEIGH</td>\n",
              "      <td>Southeast</td>\n",
              "      <td>2015/10/14 05:08:00+00</td>\n",
              "      <td>2015</td>\n",
              "      <td>10</td>\n",
              "      <td>14</td>\n",
              "      <td>1</td>\n",
              "      <td>Wednesday</td>\n",
              "      <td>35.778483</td>\n",
              "      <td>-78.613348</td>\n",
              "      <td>RPD</td>\n",
              "      <td>2017/01/26 20:52:06.377+00</td>\n",
              "      <td>False</td>\n",
              "    </tr>\n",
              "    <tr>\n",
              "      <th>270</th>\n",
              "      <td>P17032009</td>\n",
              "      <td>SEX OFFENSES</td>\n",
              "      <td>17N</td>\n",
              "      <td>Sex Offense/Peeping Tom</td>\n",
              "      <td>5600 BLOCK  BRIER OAKS LANE</td>\n",
              "      <td>RALEIGH</td>\n",
              "      <td>RALEIGH</td>\n",
              "      <td>Northwest</td>\n",
              "      <td>2017/06/13 19:21:00+00</td>\n",
              "      <td>2017</td>\n",
              "      <td>6</td>\n",
              "      <td>13</td>\n",
              "      <td>15</td>\n",
              "      <td>Tuesday</td>\n",
              "      <td>35.855529</td>\n",
              "      <td>-78.713100</td>\n",
              "      <td>RPD</td>\n",
              "      <td>2017/06/23 13:08:37.569+00</td>\n",
              "      <td>False</td>\n",
              "    </tr>\n",
              "    <tr>\n",
              "      <th>342</th>\n",
              "      <td>P17023148</td>\n",
              "      <td>SEX OFFENSES</td>\n",
              "      <td>17N</td>\n",
              "      <td>Sex Offense/Peeping Tom</td>\n",
              "      <td>7300 BLOCK OLD WAKE FOREST RD</td>\n",
              "      <td>RALEIGH</td>\n",
              "      <td>RALEIGH</td>\n",
              "      <td>Northeast</td>\n",
              "      <td>2017/05/01 23:01:00+00</td>\n",
              "      <td>2017</td>\n",
              "      <td>5</td>\n",
              "      <td>1</td>\n",
              "      <td>19</td>\n",
              "      <td>Monday</td>\n",
              "      <td>35.869659</td>\n",
              "      <td>-78.577395</td>\n",
              "      <td>RPD</td>\n",
              "      <td>2017/07/01 01:00:39.567+00</td>\n",
              "      <td>False</td>\n",
              "    </tr>\n",
              "    <tr>\n",
              "      <th>390</th>\n",
              "      <td>P14108837</td>\n",
              "      <td>SEX OFFENSES</td>\n",
              "      <td>17N</td>\n",
              "      <td>Sex Offense/Peeping Tom</td>\n",
              "      <td>3400 BLOCK  DOGWOOD DR</td>\n",
              "      <td>RALEIGH</td>\n",
              "      <td>RALEIGH</td>\n",
              "      <td>Northeast</td>\n",
              "      <td>2014/12/07 03:01:00+00</td>\n",
              "      <td>2014</td>\n",
              "      <td>12</td>\n",
              "      <td>6</td>\n",
              "      <td>22</td>\n",
              "      <td>Saturday</td>\n",
              "      <td>35.810131</td>\n",
              "      <td>-78.581056</td>\n",
              "      <td>RPD</td>\n",
              "      <td>2014/12/12 19:11:08.227+00</td>\n",
              "      <td>False</td>\n",
              "    </tr>\n",
              "    <tr>\n",
              "      <th>631</th>\n",
              "      <td>P14112653</td>\n",
              "      <td>SEX OFFENSES</td>\n",
              "      <td>17N</td>\n",
              "      <td>Sex Offense/Peeping Tom</td>\n",
              "      <td>4300 BLOCK  SNIPE CREEK LN</td>\n",
              "      <td>RALEIGH</td>\n",
              "      <td>RALEIGH</td>\n",
              "      <td>Northwest</td>\n",
              "      <td>2014/12/26 02:02:00+00</td>\n",
              "      <td>2014</td>\n",
              "      <td>12</td>\n",
              "      <td>25</td>\n",
              "      <td>21</td>\n",
              "      <td>Thursday</td>\n",
              "      <td>35.878468</td>\n",
              "      <td>-78.700296</td>\n",
              "      <td>RPD</td>\n",
              "      <td>2016/02/02 17:55:14.617+00</td>\n",
              "      <td>False</td>\n",
              "    </tr>\n",
              "  </tbody>\n",
              "</table>\n",
              "</div>"
            ],
            "text/plain": [
              "    case_number crime_category  ...                updated_date crime_type_reported\n",
              "230   P15056938   SEX OFFENSES  ...  2017/01/26 20:52:06.377+00               False\n",
              "270   P17032009   SEX OFFENSES  ...  2017/06/23 13:08:37.569+00               False\n",
              "342   P17023148   SEX OFFENSES  ...  2017/07/01 01:00:39.567+00               False\n",
              "390   P14108837   SEX OFFENSES  ...  2014/12/12 19:11:08.227+00               False\n",
              "631   P14112653   SEX OFFENSES  ...  2016/02/02 17:55:14.617+00               False\n",
              "\n",
              "[5 rows x 19 columns]"
            ]
          },
          "metadata": {
            "tags": []
          },
          "execution_count": 22
        }
      ]
    },
    {
      "cell_type": "code",
      "metadata": {
        "colab": {
          "base_uri": "https://localhost:8080/"
        },
        "id": "PHgrtqn3Zd-h",
        "outputId": "ed4d7f24-793b-425e-8e72-566a6c8c65d0"
      },
      "source": [
        "print('There are %s cases that had >1 Crimes' % (police_copy.shape[0] - police_copy['case_number'].nunique()))"
      ],
      "execution_count": 23,
      "outputs": [
        {
          "output_type": "stream",
          "text": [
            "There are 30949 cases that had >1 Crimes\n"
          ],
          "name": "stdout"
        }
      ]
    },
    {
      "cell_type": "code",
      "metadata": {
        "colab": {
          "base_uri": "https://localhost:8080/",
          "height": 213
        },
        "id": "Yic641XcYdlR",
        "outputId": "cc88f3dd-5470-4203-bef9-b350e5429cf6"
      },
      "source": [
        "duplicated_df = police_copy[police_copy['case_number'].duplicated(keep=False)].sort_values('case_number', ascending = True)\n",
        "duplicated_df.head(3)"
      ],
      "execution_count": 24,
      "outputs": [
        {
          "output_type": "execute_result",
          "data": {
            "text/html": [
              "<div>\n",
              "<style scoped>\n",
              "    .dataframe tbody tr th:only-of-type {\n",
              "        vertical-align: middle;\n",
              "    }\n",
              "\n",
              "    .dataframe tbody tr th {\n",
              "        vertical-align: top;\n",
              "    }\n",
              "\n",
              "    .dataframe thead th {\n",
              "        text-align: right;\n",
              "    }\n",
              "</style>\n",
              "<table border=\"1\" class=\"dataframe\">\n",
              "  <thead>\n",
              "    <tr style=\"text-align: right;\">\n",
              "      <th></th>\n",
              "      <th>case_number</th>\n",
              "      <th>crime_category</th>\n",
              "      <th>crime_code</th>\n",
              "      <th>crime_description</th>\n",
              "      <th>reported_block_address</th>\n",
              "      <th>city_of_incident</th>\n",
              "      <th>city</th>\n",
              "      <th>district</th>\n",
              "      <th>reported_date</th>\n",
              "      <th>reported_year</th>\n",
              "      <th>reported_month</th>\n",
              "      <th>reported_day</th>\n",
              "      <th>reported_hour</th>\n",
              "      <th>reported_dayofwk</th>\n",
              "      <th>latitude</th>\n",
              "      <th>longitude</th>\n",
              "      <th>agency</th>\n",
              "      <th>updated_date</th>\n",
              "      <th>crime_type_reported</th>\n",
              "    </tr>\n",
              "  </thead>\n",
              "  <tbody>\n",
              "    <tr>\n",
              "      <th>249389</th>\n",
              "      <td>P14071087</td>\n",
              "      <td>LIQUOR LAW VIOLATIONS</td>\n",
              "      <td>71M</td>\n",
              "      <td>Liquor-Alcohol Law Violations</td>\n",
              "      <td>800 BLOCK NEW BERN AV</td>\n",
              "      <td>RALEIGH</td>\n",
              "      <td>RALEIGH</td>\n",
              "      <td>Southeast</td>\n",
              "      <td>2014/06/01 05:27:00+00</td>\n",
              "      <td>2014</td>\n",
              "      <td>6</td>\n",
              "      <td>1</td>\n",
              "      <td>1</td>\n",
              "      <td>Sunday</td>\n",
              "      <td>35.780025</td>\n",
              "      <td>-78.626459</td>\n",
              "      <td>RPD</td>\n",
              "      <td>2015/06/26 17:33:26.897+00</td>\n",
              "      <td>False</td>\n",
              "    </tr>\n",
              "    <tr>\n",
              "      <th>249387</th>\n",
              "      <td>P14071087</td>\n",
              "      <td>TRAFFIC</td>\n",
              "      <td>71A</td>\n",
              "      <td>Traffic/DWI (Driving While Impaired)</td>\n",
              "      <td>800 BLOCK NEW BERN AV</td>\n",
              "      <td>RALEIGH</td>\n",
              "      <td>RALEIGH</td>\n",
              "      <td>Southeast</td>\n",
              "      <td>2014/06/01 05:27:00+00</td>\n",
              "      <td>2014</td>\n",
              "      <td>6</td>\n",
              "      <td>1</td>\n",
              "      <td>1</td>\n",
              "      <td>Sunday</td>\n",
              "      <td>35.780025</td>\n",
              "      <td>-78.626459</td>\n",
              "      <td>RPD</td>\n",
              "      <td>2015/06/26 17:33:26.897+00</td>\n",
              "      <td>False</td>\n",
              "    </tr>\n",
              "    <tr>\n",
              "      <th>249388</th>\n",
              "      <td>P14071087</td>\n",
              "      <td>DRUG VIOLATIONS</td>\n",
              "      <td>54B</td>\n",
              "      <td>Drug Violation/Possession</td>\n",
              "      <td>800 BLOCK NEW BERN AV</td>\n",
              "      <td>RALEIGH</td>\n",
              "      <td>RALEIGH</td>\n",
              "      <td>Southeast</td>\n",
              "      <td>2014/06/01 05:27:00+00</td>\n",
              "      <td>2014</td>\n",
              "      <td>6</td>\n",
              "      <td>1</td>\n",
              "      <td>1</td>\n",
              "      <td>Sunday</td>\n",
              "      <td>35.780025</td>\n",
              "      <td>-78.626459</td>\n",
              "      <td>RPD</td>\n",
              "      <td>2015/06/26 17:33:26.897+00</td>\n",
              "      <td>True</td>\n",
              "    </tr>\n",
              "  </tbody>\n",
              "</table>\n",
              "</div>"
            ],
            "text/plain": [
              "       case_number  ... crime_type_reported\n",
              "249389   P14071087  ...               False\n",
              "249387   P14071087  ...               False\n",
              "249388   P14071087  ...                True\n",
              "\n",
              "[3 rows x 19 columns]"
            ]
          },
          "metadata": {
            "tags": []
          },
          "execution_count": 24
        }
      ]
    },
    {
      "cell_type": "markdown",
      "metadata": {
        "id": "EEjI4NOJyopj"
      },
      "source": [
        "## Crime Code and Description Dictionary"
      ]
    },
    {
      "cell_type": "code",
      "metadata": {
        "id": "eIjscyyVyoM_"
      },
      "source": [
        "code_dict = {}\n",
        "for code, description in zip(police_copy['crime_code'], police_copy['crime_description']):\n",
        "    if code not in code_dict.keys():\n",
        "        code_dict[code] = description\n",
        "    else:\n",
        "        pass"
      ],
      "execution_count": 25,
      "outputs": []
    },
    {
      "cell_type": "code",
      "metadata": {
        "colab": {
          "base_uri": "https://localhost:8080/"
        },
        "id": "fhVNMMfSzJs5",
        "outputId": "375c3b61-6083-42df-8e06-5d6acc3b926a"
      },
      "source": [
        "code_desc_df = pd.Series(code_dict)\n",
        "code_desc_df"
      ],
      "execution_count": 26,
      "outputs": [
        {
          "output_type": "execute_result",
          "data": {
            "text/plain": [
              "17N                               Sex Offense/Peeping Tom\n",
              "25E                                        Assault/Simple\n",
              "56A                       Fraud/False Pretense or Swindle\n",
              "80B                  All Other/Damage to Property (minor)\n",
              "35F                      Larceny/Theft from Motor Vehicle\n",
              "                              ...                        \n",
              "119I                     FRAUD/ALL OTHER / IDENTITY THEFT\n",
              "267                                 ALL OTHER/TRESPASSING\n",
              "57B                Gambling/Operating-Promotion-Assisting\n",
              "13                          Homicide/Justifiable Homicide\n",
              "188     DRUGS/POSSESSION/OTHER DANGEROUS NONNARCOTIC D...\n",
              "Length: 101, dtype: object"
            ]
          },
          "metadata": {
            "tags": []
          },
          "execution_count": 26
        }
      ]
    },
    {
      "cell_type": "code",
      "metadata": {
        "colab": {
          "base_uri": "https://localhost:8080/"
        },
        "id": "JkmIIFOGzZ9o",
        "outputId": "3e272c9a-0f7f-437b-e519-e346e0190847"
      },
      "source": [
        "print('101 unique crimes occured in the ML Feedable dataframe')"
      ],
      "execution_count": 27,
      "outputs": [
        {
          "output_type": "stream",
          "text": [
            "101 unique crimes occured in the ML Feedable dataframe\n"
          ],
          "name": "stdout"
        }
      ]
    },
    {
      "cell_type": "markdown",
      "metadata": {
        "id": "Pnlx-iUkxSO7"
      },
      "source": [
        "## Reported_Hour was incorrect"
      ]
    },
    {
      "cell_type": "code",
      "metadata": {
        "id": "-iFF9H5OXSt1"
      },
      "source": [
        "police_copy['reported_date'] = pd.to_datetime(police_copy['reported_date'])\n",
        "police_copy['reported_hour'] = police_copy['reported_date'].dt.hour"
      ],
      "execution_count": 28,
      "outputs": []
    },
    {
      "cell_type": "markdown",
      "metadata": {
        "id": "T0wp3AzvyJjs"
      },
      "source": [
        "## Drop unfeedable Features"
      ]
    },
    {
      "cell_type": "code",
      "metadata": {
        "colab": {
          "base_uri": "https://localhost:8080/",
          "height": 316
        },
        "id": "o5BFGYo1Kg2L",
        "outputId": "5748f8cb-8b09-43d5-8610-cce81dd87bbb"
      },
      "source": [
        "police_copy.groupby(['crime_code', 'crime_description'])['district'].count().sort_values(ascending = True).tail(10).plot(kind = 'barh', title = 'Top 10 Crimes by Description (2004 - 2021)')\n",
        "plt.xlabel('Number of Incidents')"
      ],
      "execution_count": 29,
      "outputs": [
        {
          "output_type": "execute_result",
          "data": {
            "text/plain": [
              "Text(0.5, 0, 'Number of Incidents')"
            ]
          },
          "metadata": {
            "tags": []
          },
          "execution_count": 29
        },
        {
          "output_type": "display_data",
          "data": {
            "image/png": "[encoded data removed]",
            "text/plain": [
              "<Figure size 432x288 with 1 Axes>"
            ]
          },
          "metadata": {
            "tags": [],
            "needs_background": "light"
          }
        }
      ]
    },
    {
      "cell_type": "code",
      "metadata": {
        "colab": {
          "base_uri": "https://localhost:8080/",
          "height": 148
        },
        "id": "NXOdt2ieyS5c",
        "outputId": "334f77b0-e849-4135-919a-189a3df6d1c8"
      },
      "source": [
        "police_copy.drop(['crime_description', 'reported_date', 'agency', 'updated_date'], axis=1, inplace=True)\n",
        "police_copy.head(2)"
      ],
      "execution_count": 30,
      "outputs": [
        {
          "output_type": "execute_result",
          "data": {
            "text/html": [
              "<div>\n",
              "<style scoped>\n",
              "    .dataframe tbody tr th:only-of-type {\n",
              "        vertical-align: middle;\n",
              "    }\n",
              "\n",
              "    .dataframe tbody tr th {\n",
              "        vertical-align: top;\n",
              "    }\n",
              "\n",
              "    .dataframe thead th {\n",
              "        text-align: right;\n",
              "    }\n",
              "</style>\n",
              "<table border=\"1\" class=\"dataframe\">\n",
              "  <thead>\n",
              "    <tr style=\"text-align: right;\">\n",
              "      <th></th>\n",
              "      <th>case_number</th>\n",
              "      <th>crime_category</th>\n",
              "      <th>crime_code</th>\n",
              "      <th>reported_block_address</th>\n",
              "      <th>city_of_incident</th>\n",
              "      <th>city</th>\n",
              "      <th>district</th>\n",
              "      <th>reported_year</th>\n",
              "      <th>reported_month</th>\n",
              "      <th>reported_day</th>\n",
              "      <th>reported_hour</th>\n",
              "      <th>reported_dayofwk</th>\n",
              "      <th>latitude</th>\n",
              "      <th>longitude</th>\n",
              "      <th>crime_type_reported</th>\n",
              "    </tr>\n",
              "  </thead>\n",
              "  <tbody>\n",
              "    <tr>\n",
              "      <th>230</th>\n",
              "      <td>P15056938</td>\n",
              "      <td>SEX OFFENSES</td>\n",
              "      <td>17N</td>\n",
              "      <td>200 BLOCK  LIGHTNER LN</td>\n",
              "      <td>RALEIGH</td>\n",
              "      <td>RALEIGH</td>\n",
              "      <td>Southeast</td>\n",
              "      <td>2015</td>\n",
              "      <td>10</td>\n",
              "      <td>14</td>\n",
              "      <td>5</td>\n",
              "      <td>Wednesday</td>\n",
              "      <td>35.778483</td>\n",
              "      <td>-78.613348</td>\n",
              "      <td>False</td>\n",
              "    </tr>\n",
              "    <tr>\n",
              "      <th>270</th>\n",
              "      <td>P17032009</td>\n",
              "      <td>SEX OFFENSES</td>\n",
              "      <td>17N</td>\n",
              "      <td>5600 BLOCK  BRIER OAKS LANE</td>\n",
              "      <td>RALEIGH</td>\n",
              "      <td>RALEIGH</td>\n",
              "      <td>Northwest</td>\n",
              "      <td>2017</td>\n",
              "      <td>6</td>\n",
              "      <td>13</td>\n",
              "      <td>19</td>\n",
              "      <td>Tuesday</td>\n",
              "      <td>35.855529</td>\n",
              "      <td>-78.713100</td>\n",
              "      <td>False</td>\n",
              "    </tr>\n",
              "  </tbody>\n",
              "</table>\n",
              "</div>"
            ],
            "text/plain": [
              "    case_number crime_category  ...  longitude crime_type_reported\n",
              "230   P15056938   SEX OFFENSES  ... -78.613348               False\n",
              "270   P17032009   SEX OFFENSES  ... -78.713100               False\n",
              "\n",
              "[2 rows x 15 columns]"
            ]
          },
          "metadata": {
            "tags": []
          },
          "execution_count": 30
        }
      ]
    },
    {
      "cell_type": "code",
      "metadata": {
        "colab": {
          "base_uri": "https://localhost:8080/",
          "height": 148
        },
        "id": "MYiBhzWK1g6q",
        "outputId": "897592bc-158d-4f72-a417-450097718f32"
      },
      "source": [
        "police_copy['latlong_div'] = abs(police_copy['latitude'] / police_copy['longitude'])\n",
        "police_copy.drop('longitude', axis =1, inplace = True)\n",
        "police_copy.head(2)"
      ],
      "execution_count": 31,
      "outputs": [
        {
          "output_type": "execute_result",
          "data": {
            "text/html": [
              "<div>\n",
              "<style scoped>\n",
              "    .dataframe tbody tr th:only-of-type {\n",
              "        vertical-align: middle;\n",
              "    }\n",
              "\n",
              "    .dataframe tbody tr th {\n",
              "        vertical-align: top;\n",
              "    }\n",
              "\n",
              "    .dataframe thead th {\n",
              "        text-align: right;\n",
              "    }\n",
              "</style>\n",
              "<table border=\"1\" class=\"dataframe\">\n",
              "  <thead>\n",
              "    <tr style=\"text-align: right;\">\n",
              "      <th></th>\n",
              "      <th>case_number</th>\n",
              "      <th>crime_category</th>\n",
              "      <th>crime_code</th>\n",
              "      <th>reported_block_address</th>\n",
              "      <th>city_of_incident</th>\n",
              "      <th>city</th>\n",
              "      <th>district</th>\n",
              "      <th>reported_year</th>\n",
              "      <th>reported_month</th>\n",
              "      <th>reported_day</th>\n",
              "      <th>reported_hour</th>\n",
              "      <th>reported_dayofwk</th>\n",
              "      <th>latitude</th>\n",
              "      <th>crime_type_reported</th>\n",
              "      <th>latlong_div</th>\n",
              "    </tr>\n",
              "  </thead>\n",
              "  <tbody>\n",
              "    <tr>\n",
              "      <th>230</th>\n",
              "      <td>P15056938</td>\n",
              "      <td>SEX OFFENSES</td>\n",
              "      <td>17N</td>\n",
              "      <td>200 BLOCK  LIGHTNER LN</td>\n",
              "      <td>RALEIGH</td>\n",
              "      <td>RALEIGH</td>\n",
              "      <td>Southeast</td>\n",
              "      <td>2015</td>\n",
              "      <td>10</td>\n",
              "      <td>14</td>\n",
              "      <td>5</td>\n",
              "      <td>Wednesday</td>\n",
              "      <td>35.778483</td>\n",
              "      <td>False</td>\n",
              "      <td>0.455120</td>\n",
              "    </tr>\n",
              "    <tr>\n",
              "      <th>270</th>\n",
              "      <td>P17032009</td>\n",
              "      <td>SEX OFFENSES</td>\n",
              "      <td>17N</td>\n",
              "      <td>5600 BLOCK  BRIER OAKS LANE</td>\n",
              "      <td>RALEIGH</td>\n",
              "      <td>RALEIGH</td>\n",
              "      <td>Northwest</td>\n",
              "      <td>2017</td>\n",
              "      <td>6</td>\n",
              "      <td>13</td>\n",
              "      <td>19</td>\n",
              "      <td>Tuesday</td>\n",
              "      <td>35.855529</td>\n",
              "      <td>False</td>\n",
              "      <td>0.455522</td>\n",
              "    </tr>\n",
              "  </tbody>\n",
              "</table>\n",
              "</div>"
            ],
            "text/plain": [
              "    case_number crime_category  ... crime_type_reported latlong_div\n",
              "230   P15056938   SEX OFFENSES  ...               False    0.455120\n",
              "270   P17032009   SEX OFFENSES  ...               False    0.455522\n",
              "\n",
              "[2 rows x 15 columns]"
            ]
          },
          "metadata": {
            "tags": []
          },
          "execution_count": 31
        }
      ]
    },
    {
      "cell_type": "code",
      "metadata": {
        "colab": {
          "base_uri": "https://localhost:8080/",
          "height": 694
        },
        "id": "Hi0TgLYxXTEn",
        "outputId": "75e5b658-c6a3-439c-bb27-190be3500bdb"
      },
      "source": [
        "plt.figure(figsize = (10,10))\n",
        "plt.title('Correlation of Final Features')\n",
        "sns.heatmap(police_copy.corr(), annot = True, cmap='Reds')\n",
        "plt.xticks(rotation= 30)"
      ],
      "execution_count": 32,
      "outputs": [
        {
          "output_type": "execute_result",
          "data": {
            "text/plain": [
              "(array([0.5, 1.5, 2.5, 3.5, 4.5, 5.5, 6.5]),\n",
              " <a list of 7 Text major ticklabel objects>)"
            ]
          },
          "metadata": {
            "tags": []
          },
          "execution_count": 32
        },
        {
          "output_type": "display_data",
          "data": {
            "image/png": "[encoded data removed]",
            "text/plain": [
              "<Figure size 720x720 with 2 Axes>"
            ]
          },
          "metadata": {
            "tags": [],
            "needs_background": "light"
          }
        }
      ]
    },
    {
      "cell_type": "markdown",
      "metadata": {
        "id": "FvRFSDETXFFB"
      },
      "source": [
        "## Column DTypes\n",
        "- Numerical:\n",
        "    - reported_year\n",
        "    - reported_month\n",
        "    - reported_day\n",
        "    - reported_hour\n",
        "    - longlat_interaction\n",
        "- Categorical (OHE):\n",
        "    - case_number\n",
        "    - crime_category\n",
        "    - crime_code\n",
        "    - reported_block_address\n",
        "    - city_of_incident\n",
        "    - city\n",
        "    - reported_dayofwk\n",
        "    - crime_type_reported\n",
        "    - **district [TARGET FEATURE]**\n"
      ]
    },
    {
      "cell_type": "markdown",
      "metadata": {
        "id": "u0sIT_QBPW_Q"
      },
      "source": [
        "#Key Visualizations for Understanding Features"
      ]
    },
    {
      "cell_type": "code",
      "metadata": {
        "colab": {
          "base_uri": "https://localhost:8080/",
          "height": 372
        },
        "id": "6UBsCUI9ICSr",
        "outputId": "b4d908d0-179f-47cd-dff4-c634935ad864"
      },
      "source": [
        "weekday_crime = police_copy['reported_dayofwk'].value_counts()\n",
        "weekday_crime.index = pd.Categorical(weekday_crime.index, ['Monday', 'Tuesday', 'Wednesday', 'Thursday', 'Friday', 'Saturday', 'Sunday'])\n",
        "\n",
        "plt.figure(figsize = (10,5))\n",
        "plt.title('Number of Crimes by the Day of the Week (2014 - 2021)')\n",
        "plt.xlabel('Day of Week')\n",
        "plt.ylabel('Total Number of Crimes')\n",
        "\n",
        "weekday_crime.sort_index().plot(kind = 'bar')\n",
        "plt.axhline(36000, ls = '--')\n",
        "plt.text(5.2, 36500, 'Counts = 36,000')\n",
        "\n",
        "plt.xticks(rotation = 0)"
      ],
      "execution_count": 33,
      "outputs": [
        {
          "output_type": "execute_result",
          "data": {
            "text/plain": [
              "(array([0, 1, 2, 3, 4, 5, 6]), <a list of 7 Text major ticklabel objects>)"
            ]
          },
          "metadata": {
            "tags": []
          },
          "execution_count": 33
        },
        {
          "output_type": "display_data",
          "data": {
            "image/png": "[encoded data removed]",
            "text/plain": [
              "<Figure size 720x360 with 1 Axes>"
            ]
          },
          "metadata": {
            "tags": [],
            "needs_background": "light"
          }
        }
      ]
    },
    {
      "cell_type": "code",
      "metadata": {
        "colab": {
          "base_uri": "https://localhost:8080/",
          "height": 392
        },
        "id": "9haCpTt5M7Eo",
        "outputId": "89248d68-1aa3-4a9e-fd12-23e89f8f52f7"
      },
      "source": [
        "plt.figure(figsize = (10,5))\n",
        "police_copy['district'].value_counts().plot(kind = 'pie', autopct = '%.1f', label = '', \n",
        "                                            figsize = (6,6), title = 'Distribution of Crime according to Region (2014- 2021)')"
      ],
      "execution_count": 34,
      "outputs": [
        {
          "output_type": "execute_result",
          "data": {
            "text/plain": [
              "<matplotlib.axes._subplots.AxesSubplot at 0x7fe426e824d0>"
            ]
          },
          "metadata": {
            "tags": []
          },
          "execution_count": 34
        },
        {
          "output_type": "display_data",
          "data": {
            "image/png": "[encoded data removed]",
            "text/plain": [
              "<Figure size 432x432 with 1 Axes>"
            ]
          },
          "metadata": {
            "tags": []
          }
        }
      ]
    },
    {
      "cell_type": "code",
      "metadata": {
        "colab": {
          "base_uri": "https://localhost:8080/",
          "height": 372
        },
        "id": "eL26BEprQvFc",
        "outputId": "ff934454-67ca-4773-ca5f-027efe86cfa6"
      },
      "source": [
        "plt.figure(figsize = (10,5))\n",
        "police_copy['reported_block_address'].value_counts().sort_values(ascending = True).tail(10).plot(kind = 'barh', title = 'Top 10 Reported Block Cases for Crimes (2014- 2021)')\n",
        "plt.xlabel('Number of Incidents')"
      ],
      "execution_count": 35,
      "outputs": [
        {
          "output_type": "execute_result",
          "data": {
            "text/plain": [
              "Text(0.5, 0, 'Number of Incidents')"
            ]
          },
          "metadata": {
            "tags": []
          },
          "execution_count": 35
        },
        {
          "output_type": "display_data",
          "data": {
            "image/png": "[encoded data removed]",
            "text/plain": [
              "<Figure size 720x360 with 1 Axes>"
            ]
          },
          "metadata": {
            "tags": [],
            "needs_background": "light"
          }
        }
      ]
    },
    {
      "cell_type": "markdown",
      "metadata": {
        "id": "bUasBeYV44vZ"
      },
      "source": [
        "# Machine Learning"
      ]
    },
    {
      "cell_type": "code",
      "metadata": {
        "id": "NUkbn9aGWyje"
      },
      "source": [
        ""
      ],
      "execution_count": 35,
      "outputs": []
    }
  ]
}